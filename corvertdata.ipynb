{
  "cells": [
    {
      "cell_type": "markdown",
      "source": "Import dependencies\n",
      "metadata": {
        "pycharm": {
          "metadata": false
        }
      }
    },
    {
      "cell_type": "code",
      "execution_count": 1,
      "outputs": [],
      "source": "from __future__ import absolute_import, division, print_function, unicode_literals\nimport tensorflow as tf\ntf.logging.set_verbosity(tf.logging.ERROR)\n\nimport numpy as np\n",
      "metadata": {
        "pycharm": {
          "metadata": false,
          "name": "#%%\n",
          "is_executing": false
        }
      }
    },
    {
      "cell_type": "markdown",
      "source": "Set up training data\n",
      "metadata": {
        "pycharm": {
          "metadata": false
        }
      }
    },
    {
      "cell_type": "code",
      "execution_count": 2,
      "outputs": [
        {
          "name": "stdout",
          "text": [
            "-40.0 degrees Celsius \u003d -40.0 degrees Fahrenheit\n-10.0 degrees Celsius \u003d 14.0 degrees Fahrenheit\n0.0 degrees Celsius \u003d 32.0 degrees Fahrenheit\n8.0 degrees Celsius \u003d 46.0 degrees Fahrenheit\n15.0 degrees Celsius \u003d 59.0 degrees Fahrenheit\n22.0 degrees Celsius \u003d 72.0 degrees Fahrenheit\n38.0 degrees Celsius \u003d 100.0 degrees Fahrenheit\n"
          ],
          "output_type": "stream"
        }
      ],
      "source": "celsius_q    \u003d np.array([-40, -10,  0,  8, 15, 22,  38],  dtype\u003dfloat)\nfahrenheit_a \u003d np.array([-40,  14, 32, 46, 59, 72, 100],  dtype\u003dfloat)\n\nfor i,c in enumerate(celsius_q):\n  print(\"{} degrees Celsius \u003d {} degrees Fahrenheit\".format(c, fahrenheit_a[i]))\n",
      "metadata": {
        "pycharm": {
          "metadata": false,
          "name": "#%%\n",
          "is_executing": false
        }
      }
    },
    {
      "cell_type": "markdown",
      "source": "Create the model",
      "metadata": {
        "pycharm": {
          "metadata": false
        }
      }
    },
    {
      "cell_type": "code",
      "execution_count": 3,
      "outputs": [],
      "source": "l0 \u003d tf.keras.layers.Dense(units\u003d1, input_shape\u003d[1])  \n",
      "metadata": {
        "pycharm": {
          "metadata": false,
          "name": "#%%\n",
          "is_executing": false
        }
      }
    },
    {
      "cell_type": "markdown",
      "source": "Assemble layers into the model",
      "metadata": {
        "pycharm": {
          "metadata": false
        }
      }
    },
    {
      "cell_type": "code",
      "execution_count": 4,
      "outputs": [],
      "source": "model \u003d tf.keras.Sequential([l0])\n",
      "metadata": {
        "pycharm": {
          "metadata": false,
          "name": "#%%\n",
          "is_executing": false
        }
      }
    },
    {
      "cell_type": "markdown",
      "source": "Compile the model, with loss and optimizer functions\n",
      "metadata": {
        "pycharm": {
          "metadata": false
        }
      }
    },
    {
      "cell_type": "code",
      "execution_count": 5,
      "outputs": [],
      "source": "model.compile(loss\u003d\u0027mean_squared_error\u0027,\n              optimizer\u003dtf.keras.optimizers.Adam(0.1))\n",
      "metadata": {
        "pycharm": {
          "metadata": false,
          "name": "#%%\n",
          "is_executing": false
        }
      }
    },
    {
      "cell_type": "markdown",
      "source": "Train the model\n",
      "metadata": {
        "pycharm": {
          "metadata": false
        }
      }
    },
    {
      "cell_type": "code",
      "execution_count": 6,
      "outputs": [
        {
          "name": "stdout",
          "text": [
            "Finished training the model\n"
          ],
          "output_type": "stream"
        }
      ],
      "source": "history \u003d model.fit(celsius_q, fahrenheit_a, epochs\u003d500, verbose\u003dFalse)\nprint(\"Finished training the model\")\n",
      "metadata": {
        "pycharm": {
          "metadata": false,
          "name": "#%%\n",
          "is_executing": false
        }
      }
    },
    {
      "cell_type": "markdown",
      "source": "Display training statistics\n",
      "metadata": {
        "pycharm": {
          "metadata": false
        }
      }
    },
    {
      "cell_type": "code",
      "execution_count": 7,
      "outputs": [
        {
          "data": {
            "text/plain": "[\u003cmatplotlib.lines.Line2D at 0xb35e4a2b0\u003e]"
          },
          "metadata": {},
          "output_type": "execute_result",
          "execution_count": 7
        },
        {
          "data": {
            "text/plain": "\u003cFigure size 432x288 with 1 Axes\u003e",
            "image/png": "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\u003d\u003d\n"
          },
          "metadata": {
            "needs_background": "light"
          },
          "output_type": "display_data"
        }
      ],
      "source": "import matplotlib.pyplot as plt\n%matplotlib inline\nplt.xlabel(\u0027Epoch Number\u0027)\nplt.ylabel(\"Loss Magnitude\")\nplt.plot(history.history[\u0027loss\u0027])\n",
      "metadata": {
        "pycharm": {
          "metadata": false,
          "name": "#%%\n",
          "is_executing": false
        }
      }
    },
    {
      "cell_type": "markdown",
      "source": "Use the model to predict values",
      "metadata": {
        "pycharm": {
          "metadata": false
        }
      }
    },
    {
      "cell_type": "code",
      "execution_count": 8,
      "outputs": [
        {
          "name": "stdout",
          "text": [
            "[[211.33833]]\n"
          ],
          "output_type": "stream"
        }
      ],
      "source": "print(model.predict([100.0]))",
      "metadata": {
        "pycharm": {
          "metadata": false,
          "name": "#%%\n",
          "is_executing": false
        }
      }
    }
  ],
  "metadata": {
    "language_info": {
      "codemirror_mode": {
        "name": "ipython",
        "version": 2
      },
      "file_extension": ".py",
      "mimetype": "text/x-python",
      "name": "python",
      "nbconvert_exporter": "python",
      "pygments_lexer": "ipython2",
      "version": "2.7.6"
    },
    "kernelspec": {
      "name": "python3",
      "language": "python",
      "display_name": "Python 3"
    },
    "stem_cell": {
      "cell_type": "raw",
      "source": "",
      "metadata": {
        "pycharm": {
          "metadata": false
        }
      }
    }
  },
  "nbformat": 4,
  "nbformat_minor": 0
}